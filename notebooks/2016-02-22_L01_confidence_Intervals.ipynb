{
 "cells": [
  {
   "cell_type": "markdown",
   "metadata": {
    "slideshow": {
     "slide_type": "slide"
    }
   },
   "source": [
    "# Probability and sampling distributions\n",
    "***\n",
    "1. Discrete\n",
    "2. Continuous\n",
    "3. Random data generation with python, spark mllib\n",
    "    https://spark.apache.org/docs/latest/api/python/pyspark.mllib.html#pyspark.mllib.random.RandomRDDs\n",
    "4. Kernel density esimation\n"
   ]
  },
  {
   "cell_type": "markdown",
   "metadata": {
    "slideshow": {
     "slide_type": "slide"
    }
   },
   "source": [
    "# Two ways to work with distributions in Python\n",
    "***\n",
    "- [Scipy](https://www.scipy.org/)\n",
    "\n",
    ">This module contains a large number of probability distributions as well as a growing library of statistical functions.\n",
    "\n",
    "\n",
    "- [SymPy](http://www.sympy.org/)\n",
    "\n",
    "> SymPy is a Python library for symbolic mathematics. It aims to become a full-featured computer algebra system (CAS) while keeping the code as simple as possible in order to be comprehensible and easily extensible. SymPy is written entirely in Python.\n"
   ]
  },
  {
   "cell_type": "markdown",
   "metadata": {
    "slideshow": {
     "slide_type": "slide"
    }
   },
   "source": [
    "# Working with stats in SymPy\n",
    "***\n",
    "## Finite Variables Types\n",
    "\n"
   ]
  },
  {
   "cell_type": "code",
   "execution_count": 11,
   "metadata": {
    "collapsed": false,
    "slideshow": {
     "slide_type": "fragment"
    }
   },
   "outputs": [
    {
     "data": {
      "text/plain": [
       "{1: 1/6, 2: 1/6, 3: 1/6, 4: 1/6, 5: 1/6, 6: 1/6}"
      ]
     },
     "execution_count": 11,
     "metadata": {},
     "output_type": "execute_result"
    }
   ],
   "source": [
    "from sympy.stats import Die, density, E, variance, std, cdf\n",
    "from sympy import symbols, pprint\n",
    "\n",
    "X = Die('X', 6)\n",
    "density(X).dict"
   ]
  },
  {
   "cell_type": "code",
   "execution_count": 12,
   "metadata": {
    "collapsed": false,
    "slideshow": {
     "slide_type": "fragment"
    }
   },
   "outputs": [
    {
     "data": {
      "text/plain": [
       "{1: 1/6, 2: 1/3, 3: 1/2, 4: 2/3, 5: 5/6, 6: 1}"
      ]
     },
     "execution_count": 12,
     "metadata": {},
     "output_type": "execute_result"
    }
   ],
   "source": [
    "cdf(X)"
   ]
  },
  {
   "cell_type": "code",
   "execution_count": 13,
   "metadata": {
    "collapsed": false,
    "slideshow": {
     "slide_type": "fragment"
    }
   },
   "outputs": [
    {
     "name": "stdout",
     "output_type": "stream",
     "text": [
      "⎡     √105⎤\n",
      "⎢7/2, ────⎥\n",
      "⎣      6  ⎦\n"
     ]
    }
   ],
   "source": [
    "pprint([E(X), std(X)])"
   ]
  },
  {
   "cell_type": "markdown",
   "metadata": {
    "slideshow": {
     "slide_type": "slide"
    }
   },
   "source": [
    "## Discrete Types\n",
    "***\n",
    "Poisson Distribution"
   ]
  },
  {
   "cell_type": "code",
   "execution_count": 14,
   "metadata": {
    "collapsed": false,
    "slideshow": {
     "slide_type": "fragment"
    }
   },
   "outputs": [
    {
     "name": "stdout",
     "output_type": "stream",
     "text": [
      " z  -λ\n",
      "λ ⋅ℯ  \n",
      "──────\n",
      "  z!  \n",
      "⎧   -z - 1  z + 1                                   \n",
      "⎪  λ      ⋅λ     ⋅(z + 1)⋅γ(z + 1, λ)               \n",
      "⎪- ────────────────────────────────── + 1  for z ≥ 0\n",
      "⎨               (z + 1)!                            \n",
      "⎪                                                   \n",
      "⎪                   0                      otherwise\n",
      "⎩                                                   \n"
     ]
    }
   ],
   "source": [
    "from sympy.stats import Poisson, density, E, variance\n",
    "from sympy import Symbol, simplify\n",
    "\n",
    "rate = Symbol(\"lambda\", positive=True)\n",
    "z = Symbol(\"z\")\n",
    "P = Poisson(\"x\", rate)\n",
    "pprint(density(P)(z))\n",
    "pprint(cdf(P)(z))"
   ]
  },
  {
   "cell_type": "code",
   "execution_count": 15,
   "metadata": {
    "collapsed": false,
    "slideshow": {
     "slide_type": "fragment"
    }
   },
   "outputs": [
    {
     "name": "stdout",
     "output_type": "stream",
     "text": [
      "   2            \n",
      "- λ  + λ⋅(λ + 1)\n"
     ]
    }
   ],
   "source": [
    "pprint(variance(P))"
   ]
  },
  {
   "cell_type": "code",
   "execution_count": 16,
   "metadata": {
    "collapsed": false,
    "slideshow": {
     "slide_type": "slide"
    }
   },
   "outputs": [],
   "source": [
    "from sympy.stats import Normal, density, E, std, cdf, skewness, P, sample\n",
    "from sympy.stats import Normal, density, E, std, cdf, skewness\n",
    "\n",
    "mu = Symbol(\"mu\")\n",
    "sigma = Symbol(\"sigma\", positive=True)\n",
    "z = Symbol(\"z\")\n",
    "\n",
    "mu = Symbol(\"mu\")\n",
    "sigma = Symbol(\"sigma\", positive=True)\n",
    "z = Symbol(\"z\")\n"
   ]
  },
  {
   "cell_type": "code",
   "execution_count": 19,
   "metadata": {
    "collapsed": false
   },
   "outputs": [],
   "source": [
    "%matplotlib inline\n",
    "from matplotlib import pyplot as plt\n",
    "from sympy.stats import Gamma, E, density, sample_iter, cdf, ContinuousRV\n",
    "import numpy as np\n",
    "\n",
    "X = Normal('X', 0, 1)\n",
    "Y = Normal('Y', 500, 1)\n",
    "\n",
    "e = 0.1\n",
    "k = 1\n",
    "\n",
    "Mix = (1-e) * X + e * Y / k\n",
    "\n",
    "M = (1-e) * density(X)(z) + e * density(Y/k)(z)"
   ]
  },
  {
   "cell_type": "code",
   "execution_count": 20,
   "metadata": {
    "collapsed": false
   },
   "outputs": [
    {
     "ename": "NameError",
     "evalue": "name 'Interval' is not defined",
     "output_type": "error",
     "traceback": [
      "\u001b[0;31m---------------------------------------------------------------------------\u001b[0m",
      "\u001b[0;31mNameError\u001b[0m                                 Traceback (most recent call last)",
      "\u001b[0;32m<ipython-input-20-4eeadffcc016>\u001b[0m in \u001b[0;36m<module>\u001b[0;34m()\u001b[0m\n\u001b[1;32m      1\u001b[0m \u001b[0mx\u001b[0m \u001b[0;34m=\u001b[0m \u001b[0mSymbol\u001b[0m\u001b[0;34m(\u001b[0m\u001b[0;34m'x'\u001b[0m\u001b[0;34m)\u001b[0m\u001b[0;34m\u001b[0m\u001b[0m\n\u001b[0;32m----> 2\u001b[0;31m \u001b[0mH\u001b[0m \u001b[0;34m=\u001b[0m \u001b[0mContinuousRV\u001b[0m\u001b[0;34m(\u001b[0m\u001b[0mx\u001b[0m\u001b[0;34m,\u001b[0m \u001b[0mM\u001b[0m\u001b[0;34m,\u001b[0m \u001b[0mInterval\u001b[0m\u001b[0;34m(\u001b[0m\u001b[0;36m0\u001b[0m\u001b[0;34m,\u001b[0m\u001b[0;36m1\u001b[0m\u001b[0;34m)\u001b[0m\u001b[0;34m)\u001b[0m\u001b[0;34m\u001b[0m\u001b[0m\n\u001b[0m",
      "\u001b[0;31mNameError\u001b[0m: name 'Interval' is not defined"
     ]
    }
   ],
   "source": [
    "x = Symbol('x')\n",
    "H = ContinuousRV(x, M, Interval(0,1))"
   ]
  },
  {
   "cell_type": "code",
   "execution_count": 18,
   "metadata": {
    "collapsed": false
   },
   "outputs": [
    {
     "ename": "NameError",
     "evalue": "name 'H' is not defined",
     "output_type": "error",
     "traceback": [
      "\u001b[0;31m---------------------------------------------------------------------------\u001b[0m",
      "\u001b[0;31mNameError\u001b[0m                                 Traceback (most recent call last)",
      "\u001b[0;32m<ipython-input-18-f02712f49169>\u001b[0m in \u001b[0;36m<module>\u001b[0;34m()\u001b[0m\n\u001b[0;32m----> 1\u001b[0;31m \u001b[0msample\u001b[0m\u001b[0;34m(\u001b[0m\u001b[0mH\u001b[0m\u001b[0;34m)\u001b[0m\u001b[0;34m\u001b[0m\u001b[0m\n\u001b[0m",
      "\u001b[0;31mNameError\u001b[0m: name 'H' is not defined"
     ]
    }
   ],
   "source": [
    "sample(H)"
   ]
  },
  {
   "cell_type": "code",
   "execution_count": null,
   "metadata": {
    "collapsed": false
   },
   "outputs": [],
   "source": [
    "u = np.linspace(-10, 40,1000)\n",
    "density(X)(Matrix([0, 0]))\n",
    "v1 = [M.evalf(subs={z: i}) for i in u]\n",
    "plt.plot(u, v1)"
   ]
  },
  {
   "cell_type": "code",
   "execution_count": null,
   "metadata": {
    "collapsed": false
   },
   "outputs": [],
   "source": [
    "x = Symbol('x')\n",
    "X = ContinuousRV(x, 2*x, Interval(0, 1))"
   ]
  },
  {
   "cell_type": "code",
   "execution_count": null,
   "metadata": {
    "collapsed": false
   },
   "outputs": [],
   "source": [
    "u = np.linspace(-10, 100)\n",
    "D1 = density(X); D2 = density(Y); D3 = density(M)\n",
    "v1 = [D1(i).evalf() for i in u]\n",
    "v2 = [D2(i).evalf() for i in u]\n",
    "v3 = [D3(i).evalf() for i in u]\n",
    "plt.plot(u, v1)\n",
    "plt.plot(u, v2)\n",
    "plt.plot(u, v3)"
   ]
  },
  {
   "cell_type": "code",
   "execution_count": null,
   "metadata": {
    "collapsed": false
   },
   "outputs": [],
   "source": [
    "X"
   ]
  },
  {
   "cell_type": "code",
   "execution_count": null,
   "metadata": {
    "collapsed": true,
    "slideshow": {
     "slide_type": "skip"
    }
   },
   "outputs": [],
   "source": [
    "from scipy.stats import *\n",
    "import matplotlib.pyplot as plt\n",
    "import numpy as np"
   ]
  },
  {
   "cell_type": "code",
   "execution_count": null,
   "metadata": {
    "collapsed": false,
    "slideshow": {
     "slide_type": "fragment"
    }
   },
   "outputs": [],
   "source": [
    "fig, ax = plt.subplots(1, 1)\n",
    "x = np.linspace(norm.ppf(0.01),\n",
    "    norm.ppf(0.99), 10000)\n",
    "\n",
    "ax.plot(x, norm.pdf(x),\n",
    "    'r-', lw=4, alpha=0.7, label='norm pdf')\n",
    "\n",
    "rv = norm()\n",
    "ax.plot(x, rv.pdf(x), 'k-', lw=2, label='frozen pdf')\n",
    "\n",
    "r = norm.rvs(size=1000)\n",
    "\n",
    "ax.hist(r, normed=True, histtype='stepfilled', alpha=0.2, bins=100)\n",
    "ax.legend(loc='best', frameon=False)\n",
    "\n",
    "plt.show()"
   ]
  },
  {
   "cell_type": "code",
   "execution_count": null,
   "metadata": {
    "collapsed": false
   },
   "outputs": [],
   "source": [
    "rv = norm()\n",
    "ax.plot(x, rv.pdf(x), 'k-', lw=2, label='frozen pdf')"
   ]
  },
  {
   "cell_type": "code",
   "execution_count": null,
   "metadata": {
    "collapsed": true,
    "slideshow": {
     "slide_type": "skip"
    }
   },
   "outputs": [],
   "source": [
    "mean, var, skew, kurt = norm.stats(moments='mvsk')"
   ]
  },
  {
   "cell_type": "code",
   "execution_count": null,
   "metadata": {
    "collapsed": true
   },
   "outputs": [],
   "source": []
  },
  {
   "cell_type": "code",
   "execution_count": null,
   "metadata": {
    "collapsed": true
   },
   "outputs": [],
   "source": []
  },
  {
   "cell_type": "code",
   "execution_count": null,
   "metadata": {
    "collapsed": true
   },
   "outputs": [],
   "source": []
  },
  {
   "cell_type": "markdown",
   "metadata": {
    "slideshow": {
     "slide_type": "slide"
    }
   },
   "source": [
    "# Central Limit Theorem\n",
    "***\n",
    "\n",
    "<div class=\"alert alert-block alert-info\">\n",
    "Let $\\xi_1, \\xi_2, ... , \\xi_N$ be a set of $N$ independent random variates, which come from an arbitrary probability distribution $P(x_1, \\cdots,x_N)$ with with mean $\\mu$ and finite variance $\\sigma^2$. Then sample mean\n",
    " \n",
    "<center> $\\overline{\\xi} \\longrightarrow \\mathcal{N}\\left(\\mu, \\frac{\\sigma^2}{n}\\right)$ as $n \\rightarrow \\infty$ </center>\n",
    "\n",
    "or\n",
    "\n",
    "<center> $ Z = \\frac{\\overline{\\xi} - \\mu}{\\sigma / \\sqrt{n}} = \\frac{\\sum\\limits_{i=1}^{n}\\xi_i - n\\sigma}{\\sigma\\sqrt{n}} \\longrightarrow \n",
    "\\mathcal{N}\\left(0, 1\\right)$ as $n \\rightarrow \\infty$</center>\n",
    "</div>\n",
    "\n",
    "***\n",
    "Resources: \n",
    "- https://www.khanacademy.org/math/statistics-probability\n",
    "- https://onlinecourses.science.psu.edu/stat414"
   ]
  },
  {
   "cell_type": "markdown",
   "metadata": {
    "slideshow": {
     "slide_type": "slide"
    }
   },
   "source": [
    "# Limitations of CLT\n",
    "***\n",
    "\n",
    "The CLT approaches gaussian distribution with increasing sample size for a  statistic, but\n",
    "<br />\n",
    "<br />\n",
    "<center><div class=\"alert alert-block alert-warning\">\n",
    "NB! No rule of thumb for  $n$\n",
    "<br />\n",
    "Always need to check (algebraically, via simulation) how close to normality we are, $n=2$ can be enough , $n=1000$ can be not\n",
    "</div></center>\n",
    "\n",
    "\n",
    "***\n",
    "Resources:\n",
    "- https://www.quora.com/Why-is-the-central-limit-theorem-considered-such-a-foundational-concept-to-inferential-statistics\n",
    "- https://stats.stackexchange.com/questions/81074/how-useful-is-the-clt-in-applications\n",
    "- https://stats.stackexchange.com/questions/61798/example-of-distribution-where-large-sample-size-is-necessary-for-central-limit-t/61849#61849\n"
   ]
  },
  {
   "cell_type": "markdown",
   "metadata": {
    "slideshow": {
     "slide_type": "slide"
    }
   },
   "source": [
    "# Limitations of CLT\n",
    "## Examples\n",
    "\n",
    "time between events (lag between an ad and an increase in sales, or time between failures in reliability theory, or latency in IT).  What CLT says is that if you take enough samples of time between events, their means will follow a normal distribution (and believe me, they do!). This leads to a scary result of average times between events becoming negative with a nonzero probability.\n",
    "\n",
    "the sample third and fourth moments are averages and so the CLT should apply. The Jarque-Bera test relies on that (plus Slutsky, I guess, for the denominator, along with asymptotic independence), in order to obtain a chi-square distribution for the sum of squares of standardized values."
   ]
  },
  {
   "cell_type": "markdown",
   "metadata": {
    "slideshow": {
     "slide_type": "slide"
    }
   },
   "source": [
    "# Limitations of CLT\n",
    "***\n",
    "Suppose, we have $\\xi$ with a distribution like this:\n",
    "<img src=\"../pictures/xzits.png\">\n",
    "\n"
   ]
  },
  {
   "cell_type": "markdown",
   "metadata": {
    "collapsed": true,
    "slideshow": {
     "slide_type": "slide"
    }
   },
   "source": [
    "# Limitations of CLT\n",
    "***\n",
    "$\\overline{\\xi}$ for $n = 1000$ has a shape:\n",
    "\n",
    "<img src=\"../pictures/shape.png\">\n",
    "\n",
    "- near normal to treat for some cases (density for 2 sd of the mean)\n",
    "- not normal to assess probability of being more than 3 sd\n",
    "\n",
    "\n"
   ]
  },
  {
   "cell_type": "markdown",
   "metadata": {},
   "source": [
    "<img src=\"../pictures/shape.png\">"
   ]
  },
  {
   "cell_type": "code",
   "execution_count": null,
   "metadata": {
    "collapsed": false
   },
   "outputs": [],
   "source": [
    "!ls ../pictures"
   ]
  },
  {
   "cell_type": "markdown",
   "metadata": {},
   "source": [
    "## Пример расчета свойств выборок при помощи ЦПТ"
   ]
  },
  {
   "cell_type": "markdown",
   "metadata": {},
   "source": [
    "## Confidence intervals"
   ]
  },
  {
   "cell_type": "markdown",
   "metadata": {
    "slideshow": {
     "slide_type": "slide"
    }
   },
   "source": [
    "## Confidence intervals based on bootstrap\n",
    "http://www.kdnuggets.com/2016/01/hypothesis-testing-bootstrap-apache-spark.html"
   ]
  },
  {
   "cell_type": "markdown",
   "metadata": {
    "slideshow": {
     "slide_type": "slide"
    }
   },
   "source": [
    "## Apache Spark Bootstraping"
   ]
  },
  {
   "cell_type": "code",
   "execution_count": null,
   "metadata": {
    "collapsed": false
   },
   "outputs": [],
   "source": []
  },
  {
   "cell_type": "code",
   "execution_count": null,
   "metadata": {
    "collapsed": true
   },
   "outputs": [],
   "source": []
  }
 ],
 "metadata": {
  "celltoolbar": "Slideshow",
  "kernelspec": {
   "display_name": "Python 3",
   "language": "python",
   "name": "python3"
  },
  "language_info": {
   "codemirror_mode": {
    "name": "ipython",
    "version": 3
   },
   "file_extension": ".py",
   "mimetype": "text/x-python",
   "name": "python",
   "nbconvert_exporter": "python",
   "pygments_lexer": "ipython3",
   "version": "3.5.2"
  }
 },
 "nbformat": 4,
 "nbformat_minor": 1
}
