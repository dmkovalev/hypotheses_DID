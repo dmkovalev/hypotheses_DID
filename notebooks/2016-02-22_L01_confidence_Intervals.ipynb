{
 "cells": [
  {
   "cell_type": "markdown",
   "metadata": {
    "slideshow": {
     "slide_type": "slide"
    }
   },
   "source": [
    "## Probability and sampling distributions\n",
    "1. Discrete\n",
    "2. Continuous\n",
    "3. Random data generation with python, spark mllib\n",
    "    https://spark.apache.org/docs/latest/api/python/pyspark.mllib.html#pyspark.mllib.random.RandomRDDs\n",
    "4. Kernel density esimation\n"
   ]
  },
  {
   "cell_type": "markdown",
   "metadata": {
    "slideshow": {
     "slide_type": "slide"
    }
   },
   "source": [
    "## Central Limit Theorem\n",
    "***\n",
    "\n",
    "<div class=\"alert alert-block alert-info\">\n",
    "Let $\\xi_1, \\xi_2, ... , \\xi_N$ be a set of $N$ independent random variates, which come from an arbitrary probability distribution $P(x_1, \\cdots,x_N)$ with with mean $\\mu$ and finite variance $\\sigma^2$. Then sample mean\n",
    " \n",
    "<center> $\\overline{\\xi} \\longrightarrow \\mathcal{N}\\left(\\mu, \\frac{\\sigma^2}{n}\\right)$ as $n \\rightarrow \\infty$ </center>\n",
    "\n",
    "or\n",
    "\n",
    "<center> $ Z = \\frac{\\overline{\\xi} - \\mu}{\\sigma / \\sqrt{n}} = \\frac{\\sum\\limits_{i=1}^{n}\\xi_i - n\\sigma}{\\sigma\\sqrt{n}} \\longrightarrow \n",
    "\\mathcal{N}\\left(0, 1\\right)$ as $n \\rightarrow \\infty$</center>\n",
    "</div>\n",
    "\n",
    "***\n",
    "Resources: \n",
    "- https://www.khanacademy.org/math/statistics-probability\n",
    "- https://onlinecourses.science.psu.edu/stat414"
   ]
  },
  {
   "cell_type": "markdown",
   "metadata": {
    "slideshow": {
     "slide_type": "slide"
    }
   },
   "source": [
    "## Limitations of CLT\n",
    "***\n",
    "\n",
    "The CLT approaches gaussian distribution with increasing sample size for a  statistic, but\n",
    "<br />\n",
    "<br />\n",
    "<center><div class=\"alert alert-block alert-warning\">\n",
    "No rule of thumb for the $n$\n",
    "<br />\n",
    "Always need to check (algebraically, via simulation) how close to normality we are, $n=2$ can be enough , $n=1000$ ca be not\n",
    "</div></center>\n",
    "\n",
    "\n",
    "***\n",
    "Resources:\n",
    "- https://www.quora.com/Why-is-the-central-limit-theorem-considered-such-a-foundational-concept-to-inferential-statistics\n",
    "- https://stats.stackexchange.com/questions/81074/how-useful-is-the-clt-in-applications\n",
    "- https://stats.stackexchange.com/questions/61798/example-of-distribution-where-large-sample-size-is-necessary-for-central-limit-t/61849#61849"
   ]
  },
  {
   "cell_type": "markdown",
   "metadata": {
    "slideshow": {
     "slide_type": "slide"
    }
   },
   "source": [
    "## Limitations of CLT\n",
    "***\n",
    "Examples:\n",
    "time between events (lag between an ad and an increase in sales, or time between failures in reliability theory, or latency in IT).  What CLT says is that if you take enough samples of time between events, their means will follow a normal distribution (and believe me, they do!). This leads to a scary result of average times between events becoming negative with a nonzero probability.\n",
    "\n",
    "the sample third and fourth moments are averages and so the CLT should apply. The Jarque-Bera test relies on that (plus Slutsky, I guess, for the denominator, along with asymptotic independence), in order to obtain a chi-square distribution for the sum of squares of standardized values."
   ]
  },
  {
   "cell_type": "markdown",
   "metadata": {
    "collapsed": true,
    "slideshow": {
     "slide_type": "slide"
    }
   },
   "source": [
    "<img src=\"../pictures/L01_sk_kurt.png.png\">"
   ]
  },
  {
   "cell_type": "markdown",
   "metadata": {},
   "source": [
    "## Пример расчета свойств выборок при помощи ЦПТ"
   ]
  },
  {
   "cell_type": "markdown",
   "metadata": {},
   "source": [
    "## Confidence intervals"
   ]
  },
  {
   "cell_type": "markdown",
   "metadata": {
    "slideshow": {
     "slide_type": "slide"
    }
   },
   "source": [
    "## Confidence intervals based on bootstrap\n",
    "http://www.kdnuggets.com/2016/01/hypothesis-testing-bootstrap-apache-spark.html"
   ]
  },
  {
   "cell_type": "markdown",
   "metadata": {
    "slideshow": {
     "slide_type": "slide"
    }
   },
   "source": [
    "## Apache Spark Bootstraping"
   ]
  },
  {
   "cell_type": "code",
   "execution_count": 8,
   "metadata": {
    "collapsed": false
   },
   "outputs": [],
   "source": []
  },
  {
   "cell_type": "code",
   "execution_count": null,
   "metadata": {
    "collapsed": true
   },
   "outputs": [],
   "source": []
  }
 ],
 "metadata": {
  "celltoolbar": "Slideshow",
  "kernelspec": {
   "display_name": "Python 3",
   "language": "python",
   "name": "python3"
  },
  "language_info": {
   "codemirror_mode": {
    "name": "ipython",
    "version": 3
   },
   "file_extension": ".py",
   "mimetype": "text/x-python",
   "name": "python",
   "nbconvert_exporter": "python",
   "pygments_lexer": "ipython3",
   "version": "3.5.2"
  }
 },
 "nbformat": 4,
 "nbformat_minor": 1
}
