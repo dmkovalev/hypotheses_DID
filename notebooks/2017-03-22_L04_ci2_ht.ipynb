{
 "cells": [
  {
   "cell_type": "markdown",
   "metadata": {
    "slideshow": {
     "slide_type": "slide"
    }
   },
   "source": [
    "# Confidence Intervals for difference in means"
   ]
  },
  {
   "cell_type": "markdown",
   "metadata": {
    "slideshow": {
     "slide_type": "fragment"
    }
   },
   "source": [
    "We want to see, what are the confidence intervals for $\\mu_1− \\mu_2$, if:\n",
    "\n",
    "- $X,X_2$ are i.i.d with a common variance $\\sigma$\n",
    "- $X,X_2$ are i.i.d with variances $\\sigma_1 \\neq \\sigma_2$\n",
    "- $X,X_2$ when the populations are dependent and normally distributed"
   ]
  },
  {
   "cell_type": "markdown",
   "metadata": {
    "collapsed": true,
    "slideshow": {
     "slide_type": "slide"
    }
   },
   "source": [
    "## Theorem (without proof)\n",
    "***\n",
    "\n",
    "<div class=\"alert alert-block alert-info\">\n",
    "Let $X_1, X_2, ... , X_n \\sim \\mathcal{N}\\left(\\mu_X, \\frac{\\sigma^2}{n}\\right)$ and $Y_1, Y_2, ... , Y_m \\sim \\mathcal{N}\\left(\\mu_Y, \\frac{\\sigma^2}{n}\\right)$ are independant random samples, then a $(1-\\alpha)$ confidence interval for $\\mu_X - \\mu_Y$ is:\n",
    "\n",
    "<center> $\\overline{X} - \\overline{Y} \\pm \\left(t_{\\alpha/2,n+m-2}\\right) S_p \\sqrt{ \\frac{1}{n} + \\frac{1}{m}} $, </center> where\n",
    "\n",
    "<center> $S^2_p = \\frac{(n-1)S^2_X + (m-1)S^2_Y}{n+m-2}$ </center>\n",
    "is an unbiased estimator of common variance $\\sigma^2$"
   ]
  },
  {
   "cell_type": "markdown",
   "metadata": {
    "slideshow": {
     "slide_type": "slide"
    }
   },
   "source": [
    "## Comments\n",
    "- Measurements are independent\n",
    "- Normally distributed\n",
    "- Same Variance\n",
    "- No restriction on sample size n,m\n"
   ]
  },
  {
   "cell_type": "markdown",
   "metadata": {
    "slideshow": {
     "slide_type": "slide"
    }
   },
   "source": [
    "# Confidence interval for SLR"
   ]
  },
  {
   "cell_type": "code",
   "execution_count": null,
   "metadata": {
    "collapsed": true,
    "slideshow": {
     "slide_type": "fragment"
    }
   },
   "outputs": [],
   "source": []
  }
 ],
 "metadata": {
  "celltoolbar": "Slideshow",
  "kernelspec": {
   "display_name": "Python 3",
   "language": "python",
   "name": "python3"
  },
  "language_info": {
   "codemirror_mode": {
    "name": "ipython",
    "version": 3
   },
   "file_extension": ".py",
   "mimetype": "text/x-python",
   "name": "python",
   "nbconvert_exporter": "python",
   "pygments_lexer": "ipython3",
   "version": "3.5.2"
  }
 },
 "nbformat": 4,
 "nbformat_minor": 2
}
