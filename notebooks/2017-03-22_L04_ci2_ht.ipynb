{
 "cells": [
  {
   "cell_type": "markdown",
   "metadata": {
    "slideshow": {
     "slide_type": "slide"
    }
   },
   "source": [
    "# Confidence Intervals for difference in means"
   ]
  },
  {
   "cell_type": "markdown",
   "metadata": {
    "slideshow": {
     "slide_type": "fragment"
    }
   },
   "source": [
    "We want to see, what are the confidence intervals for $\\mu_1− \\mu_2$, if:\n",
    "\n",
    "- $X,X_2$ are i.i.d with a common variance $\\sigma$\n",
    "- $X,X_2$ are i.i.d with variances $\\sigma_1 \\neq \\sigma_2$\n",
    "- $X,X_2$ when the populations are dependent and normally distributed"
   ]
  },
  {
   "cell_type": "markdown",
   "metadata": {
    "collapsed": true,
    "slideshow": {
     "slide_type": "slide"
    }
   },
   "source": [
    "## Theorem\n",
    "***\n",
    "\n",
    "<div class=\"alert alert-block alert-info\">\n",
    "Let $X_1, X_2, ... , X_n \\sim \\mathcal{N}\\left(\\mu_X, \\sigma^2\\right)$ and $Y_1, Y_2, ... , Y_m \\sim \\mathcal{N}\\left(\\mu_Y, \\sigma^2\\right)$ are independant random samples, then a $(1-\\alpha)$ confidence interval for $\\mu_X - \\mu_Y$ is:\n",
    "\n",
    "<center> $\\overline{X} - \\overline{Y} \\pm \\left(t_{\\alpha/2,n+m-2}\\right) S_p \\sqrt{ \\frac{1}{n} + \\frac{1}{m}} $, </center> where\n",
    "\n",
    "<center> $S^2_p = \\frac{(n-1)S^2_X + (m-1)S^2_Y}{n+m-2}$ </center>\n",
    "is an unbiased estimator of common variance $\\sigma^2$"
   ]
  },
  {
   "cell_type": "markdown",
   "metadata": {
    "slideshow": {
     "slide_type": "slide"
    }
   },
   "source": [
    "## Comments\n",
    "- Measurements are independent\n",
    "- Normally distributed\n",
    "- Same Variance\n",
    "- No restriction on sample size n,m\n"
   ]
  },
  {
   "cell_type": "markdown",
   "metadata": {
    "slideshow": {
     "slide_type": "slide"
    }
   },
   "source": [
    "## Example\n",
    "***"
   ]
  },
  {
   "cell_type": "code",
   "execution_count": 69,
   "metadata": {
    "collapsed": false,
    "slideshow": {
     "slide_type": "fragment"
    }
   },
   "outputs": [
    {
     "data": {
      "text/plain": [
       "(3.0774417646849752, 7.0159826275504802)"
      ]
     },
     "execution_count": 69,
     "metadata": {},
     "output_type": "execute_result"
    }
   ],
   "source": [
    "from scipy import stats as st\n",
    "import numpy as np\n",
    "from statsmodels.stats.weightstats import _zconfint_generic, _tconfint_generic\n",
    "\n",
    "np.random.seed(0)\n",
    "X = st.norm.rvs(size=100,loc=10,scale=1)\n",
    "Y = st.norm.rvs(size=150, loc=5, scale=1)\n",
    "\n",
    "n,m = len(X), len(Y)\n",
    "X_mean, Y_mean = np.mean(X), np.mean(Y)\n",
    "S_X, S_Y = np.var(X, ddof=1), np.var(Y, ddof=1)\n",
    "S_P = ((n-1) * S_X + (m-1) * S_Y) / (n + m - 2)\n",
    "\n",
    "\n",
    "_tconfint_generic(X_mean - Y_mean, \n",
    "                  np.sqrt(S_P), n + m - 2, 0.05, 'two-sided')"
   ]
  },
  {
   "cell_type": "markdown",
   "metadata": {
    "slideshow": {
     "slide_type": "slide"
    }
   },
   "source": [
    "# Confidence interval for mean \n",
    "## Example\n",
    "***"
   ]
  },
  {
   "cell_type": "markdown",
   "metadata": {
    "slideshow": {
     "slide_type": "slide"
    }
   },
   "source": [
    "# Hypothesis testing\n",
    "\n",
    "\"What is the value of the parameter θ?\"\n",
    "\n",
    "\"Is the value of the parameter θ such and such?\" \n",
    "***\n",
    " - estimate μ, the mean body temperature of adults\n",
    " - is μ, the mean body temperature of adults, 37 degrees Celsius"
   ]
  },
  {
   "cell_type": "markdown",
   "metadata": {
    "slideshow": {
     "slide_type": "slide"
    }
   },
   "source": [
    "# Hypothesis testing framework"
   ]
  },
  {
   "cell_type": "markdown",
   "metadata": {
    "slideshow": {
     "slide_type": "fragment"
    }
   },
   "source": [
    "Compare experiment data with predicted data\n",
    "\n",
    "$X^n = (X_1, ..., X_n), X \\sim P$\n",
    "- $X = {0,1}$\n",
    "- $X = $ accuracy of prediction\n",
    "\n",
    "What does data tell? E.g., does it tell that model predicts better than random?\n"
   ]
  },
  {
   "cell_type": "markdown",
   "metadata": {
    "slideshow": {
     "slide_type": "slide"
    }
   },
   "source": [
    "- Null hypothesis $H_0: P \\in \\omega$\n",
    "- Alternative: $H_1: P \\notin \\omega$\n",
    "- Statistics : $T(X^n) \\sim F(X)$ if $H_0$\n",
    "- $F(X)$ - null distribution of statistics\n",
    "- $F(X), T(X)$ - statistical criteria for testing $H_0$ against $H_1$"
   ]
  },
  {
   "cell_type": "markdown",
   "metadata": {
    "slideshow": {
     "slide_type": "slide"
    }
   },
   "source": [
    "# P-value\n",
    "What is the probability of getting t if $H_0$ is true?\n",
    "<center>$p = P(T > t | H_0)$</center>\n",
    "\n",
    "p - probability of getting that statistics value (or more extreme) if $H_0$ is true"
   ]
  },
  {
   "cell_type": "markdown",
   "metadata": {
    "slideshow": {
     "slide_type": "slide"
    }
   },
   "source": [
    "We compare it with significance level $\\alpha$\n",
    "$H_0$ is rejected in favor of $H_1$ if $p < \\alpha$"
   ]
  },
  {
   "cell_type": "markdown",
   "metadata": {
    "slideshow": {
     "slide_type": "slide"
    }
   },
   "source": [
    "What we need\n",
    "- Hypotheses and alternative\n",
    "- Statitics\n",
    "- Null distribution\n",
    "- p-value"
   ]
  },
  {
   "cell_type": "markdown",
   "metadata": {
    "slideshow": {
     "slide_type": "slide"
    }
   },
   "source": [
    "# Type I and II errors"
   ]
  },
  {
   "cell_type": "markdown",
   "metadata": {
    "slideshow": {
     "slide_type": "fragment"
    }
   },
   "source": [
    "- $H_0$ is correct, but rejected - Type I\n",
    "- $H_0$ is incorrect, but not rejected - Type II\n",
    "\n",
    "They are not symmetric! Type I is cricical error!\n",
    "<center> $ P(reject H_0 | H_0 is correct) = P(p<\\alpha | H_0) < \\alpha $\n",
    "\n",
    "Type II is associated with power of criteria. Within all correct ones we choose with max value."
   ]
  },
  {
   "cell_type": "code",
   "execution_count": null,
   "metadata": {
    "collapsed": true
   },
   "outputs": [],
   "source": []
  }
 ],
 "metadata": {
  "celltoolbar": "Slideshow",
  "kernelspec": {
   "display_name": "Python 3",
   "language": "python",
   "name": "python3"
  },
  "language_info": {
   "codemirror_mode": {
    "name": "ipython",
    "version": 3
   },
   "file_extension": ".py",
   "mimetype": "text/x-python",
   "name": "python",
   "nbconvert_exporter": "python",
   "pygments_lexer": "ipython3",
   "version": "3.5.2"
  }
 },
 "nbformat": 4,
 "nbformat_minor": 2
}
